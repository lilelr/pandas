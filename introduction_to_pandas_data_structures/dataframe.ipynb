{
 "cells": [
  {
   "cell_type": "code",
   "execution_count": 6,
   "metadata": {
    "collapsed": false,
    "deletable": true,
    "editable": true
   },
   "outputs": [
    {
     "name": "stdout",
     "output_type": "stream",
     "text": [
      "用字典生成DataFrame，key为列的名字。\n",
      "   pop   state  year\n",
      "0  1.5    Ohio  2000\n",
      "1  1.7    Ohio  2001\n",
      "2  3.6    Ohio  2002\n",
      "3  2.4  Nevada  2001\n",
      "4  2.9  Nevada  2002\n",
      "   year   state  pop\n",
      "0  2000    Ohio  1.5\n",
      "1  2001    Ohio  1.7\n",
      "2  2002    Ohio  3.6\n",
      "3  2001  Nevada  2.4\n",
      "4  2002  Nevada  2.9\n",
      "\n",
      "指定索引，在列中指定不存在的列，默认数据用NaN。\n",
      "       year   state  pop debt\n",
      "one    2000    Ohio  1.5  NaN\n",
      "two    2001    Ohio  1.7  NaN\n",
      "three  2002    Ohio  3.6  NaN\n",
      "four   2001  Nevada  2.4  NaN\n",
      "five   2002  Nevada  2.9  NaN\n",
      "one        Ohio\n",
      "two        Ohio\n",
      "three      Ohio\n",
      "four     Nevada\n",
      "five     Nevada\n",
      "Name: state, dtype: object\n",
      "one      2000\n",
      "two      2001\n",
      "three    2002\n",
      "four     2001\n",
      "five     2002\n",
      "Name: year, dtype: int64\n",
      "year     2002\n",
      "state    Ohio\n",
      "pop       3.6\n",
      "debt      NaN\n",
      "Name: three, dtype: object\n",
      "       year   state  pop  debt\n",
      "one    2000    Ohio  1.5  16.5\n",
      "two    2001    Ohio  1.7  16.5\n",
      "three  2002    Ohio  3.6  16.5\n",
      "four   2001  Nevada  2.4  16.5\n",
      "five   2002  Nevada  2.9  16.5\n",
      "       year   state  pop  debt\n",
      "one    2000    Ohio  1.5     0\n",
      "two    2001    Ohio  1.7     1\n",
      "three  2002    Ohio  3.6     2\n",
      "four   2001  Nevada  2.4     3\n",
      "five   2002  Nevada  2.9     4\n",
      "\n"
     ]
    }
   ],
   "source": [
    "# -*- coding: utf-8 -*-\n",
    "import numpy as np\n",
    "from pandas import Series, DataFrame\n",
    "\n",
    "print '用字典生成DataFrame，key为列的名字。'\n",
    "data = {'state':['Ohio', 'Ohio', 'Ohio', 'Nevada', 'Nevada'],\n",
    "        'year':[2000, 2001, 2002, 2001, 2002],\n",
    "        'pop':[1.5, 1.7, 3.6, 2.4, 2.9]}\n",
    "print DataFrame(data)\n",
    "print DataFrame(data, columns = ['year', 'state', 'pop']) # 指定列顺序\n",
    "print\n",
    "\n",
    "print '指定索引，在列中指定不存在的列，默认数据用NaN。'\n",
    "frame2 = DataFrame(data,\n",
    "                    columns = ['year', 'state', 'pop', 'debt'],\n",
    "                    index = ['one', 'two', 'three', 'four', 'five'])\n",
    "print frame2\n",
    "print frame2['state']\n",
    "print frame2.year\n",
    "print frame2.ix['three']\n",
    "frame2['debt'] = 16.5 # 修改一整列\n",
    "print frame2\n",
    "frame2.debt = np.arange(5)  # 用numpy数组修改元素\n",
    "print frame2\n",
    "print"
   ]
  },
  {
   "cell_type": "code",
   "execution_count": null,
   "metadata": {
    "collapsed": true
   },
   "outputs": [],
   "source": [
    ""
   ]
  },
  {
   "cell_type": "code",
   "execution_count": null,
   "metadata": {
    "collapsed": false
   },
   "outputs": [],
   "source": [
    "print '用Series指定要修改的索引及其对应的值，没有指定的默认数据用NaN。'\n",
    "val = Series([-1.2, -1.5, -1.7], index = ['two', 'four', 'five'])\n",
    "frame2['debt'] = val\n",
    "print frame2\n",
    "print"
   ]
  },
  {
   "cell_type": "code",
   "execution_count": 8,
   "metadata": {
    "collapsed": false
   },
   "outputs": [
    {
     "name": "stdout",
     "output_type": "stream",
     "text": [
      "赋值给新列\n",
      "       year   state  pop  debt eastern\n",
      "one    2000    Ohio  1.5   NaN    True\n",
      "two    2001    Ohio  1.7  -1.2    True\n",
      "three  2002    Ohio  3.6   NaN    True\n",
      "four   2001  Nevada  2.4  -1.5   False\n",
      "five   2002  Nevada  2.9  -1.7   False\n",
      "Index([u'year', u'state', u'pop', u'debt', u'eastern'], dtype='object')\n"
     ]
    }
   ],
   "source": [
    "print '赋值给新列'\n",
    "frame2['eastern'] = (frame2.state == 'Ohio')\n",
    "print frame2\n",
    "print frame2.columns\n",
    "print"
   ]
  },
  {
   "cell_type": "code",
   "execution_count": 9,
   "metadata": {
    "collapsed": false
   },
   "outputs": [
    {
     "name": "stdout",
     "output_type": "stream",
     "text": [
      "DataFrame 转置\n",
      "      Nevada  Ohio\n",
      "2000     NaN   1.5\n",
      "2001     2.4   1.7\n",
      "2002     2.9   3.6\n",
      "        2000  2001  2002\n",
      "Nevada   NaN   2.4   2.9\n",
      "Ohio     1.5   1.7   3.6\n",
      "\n"
     ]
    }
   ],
   "source": [
    "print 'DataFrame 转置'\n",
    "pop = {'Nevada':{2001:2.4, 2002:2.9},\n",
    "        'Ohio':{2000:1.5, 2001:1.7, 2002:3.6}}\n",
    "frame3 = DataFrame(pop)\n",
    "print frame3\n",
    "print frame3.T\n",
    "print"
   ]
  },
  {
   "cell_type": "code",
   "execution_count": 12,
   "metadata": {
    "collapsed": false
   },
   "outputs": [
    {
     "name": "stdout",
     "output_type": "stream",
     "text": [
      "指定索引顺序，以及使用切片初始化数据。\n",
      "      Nevada  Ohio\n",
      "2001     2.4   1.7\n",
      "2002     2.9   3.6\n",
      "2003     NaN   NaN\n",
      "\n",
      "2000    1.5\n",
      "2001    1.7\n",
      "Name: Ohio, dtype: float64\n",
      "\n",
      "      Nevada  Ohio\n",
      "2000     NaN   1.5\n",
      "2001     2.4   1.7\n",
      "\n"
     ]
    }
   ],
   "source": [
    "print '指定索引顺序，以及使用切片初始化数据。'\n",
    "print DataFrame(pop, index = [2001, 2002, 2003])\n",
    "print\n",
    "print frame3['Ohio'][:-1]\n",
    "print\n",
    "pdata = {'Ohio':frame3['Ohio'][:-1], 'Nevada':frame3['Nevada'][:2]}\n",
    "print DataFrame(pdata)\n",
    "print"
   ]
  },
  {
   "cell_type": "code",
   "execution_count": null,
   "metadata": {
    "collapsed": true
   },
   "outputs": [],
   "source": [
    ""
   ]
  }
 ],
 "metadata": {
  "kernelspec": {
   "display_name": "Python 2",
   "language": "python",
   "name": "python2"
  },
  "language_info": {
   "codemirror_mode": {
    "name": "ipython",
    "version": 2.0
   },
   "file_extension": ".py",
   "mimetype": "text/x-python",
   "name": "python",
   "nbconvert_exporter": "python",
   "pygments_lexer": "ipython2",
   "version": "2.7.12"
  }
 },
 "nbformat": 4,
 "nbformat_minor": 0
}